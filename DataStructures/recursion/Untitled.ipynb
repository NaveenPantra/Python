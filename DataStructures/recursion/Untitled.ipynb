{
 "cells": [
  {
   "cell_type": "code",
   "execution_count": 1,
   "metadata": {},
   "outputs": [],
   "source": [
    "def permutation(s):\n",
    "    \"\"\"\n",
    "    To find the permutations of the given string, with repetitions allowed.\n",
    "    :param s: String.\n",
    "    :return: list containing all permutations with repetitions allowed.\n",
    "    \"\"\"\n",
    "    if len(s) == 1:\n",
    "        return [s]\n",
    "    if len(s) == 2:\n",
    "        return [s, s[::-1]]\n",
    "    else:\n",
    "        result = []\n",
    "        for excludeCharPos in range(0, len(s)):\n",
    "            letter = s[excludeCharPos]\n",
    "            temp = permutation(s[0:excludeCharPos] + s[excludeCharPos + 1:])\n",
    "            for subStringPos in range(0, len(temp)):\n",
    "                result.append(f\"{letter + temp[subStringPos]}\")\n",
    "\n",
    "        return result\n",
    "    "
   ]
  },
  {
   "cell_type": "code",
   "execution_count": null,
   "metadata": {},
   "outputs": [],
   "source": [
    "%timeit(permutation(\"abcdefgh\"))"
   ]
  },
  {
   "cell_type": "code",
   "execution_count": 3,
   "metadata": {},
   "outputs": [],
   "source": [
    "def permutationString(s):\n",
    "    result = []\n",
    "    if len(s) == 1:\n",
    "        result = [s]\n",
    "    else:\n",
    "        for pos, letter in enumerate(s):\n",
    "            for permute in permutationString(s[:pos] + s[pos + 1:]):\n",
    "                result += [letter + permute]\n",
    "\n",
    "    return result"
   ]
  },
  {
   "cell_type": "code",
   "execution_count": null,
   "metadata": {},
   "outputs": [],
   "source": [
    "%timeit(permutationString(\"abcdefgh\"))"
   ]
  }
 ],
 "metadata": {
  "kernelspec": {
   "display_name": "Python 3",
   "language": "python",
   "name": "python3"
  },
  "language_info": {
   "codemirror_mode": {
    "name": "ipython",
    "version": 3
   },
   "file_extension": ".py",
   "mimetype": "text/x-python",
   "name": "python",
   "nbconvert_exporter": "python",
   "pygments_lexer": "ipython3",
   "version": "3.6.5"
  }
 },
 "nbformat": 4,
 "nbformat_minor": 2
}
